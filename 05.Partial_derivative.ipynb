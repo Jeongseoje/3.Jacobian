{
 "cells": [
  {
   "cell_type": "code",
   "execution_count": 1,
   "id": "712759e0-c7b4-4734-840e-08333287a3d7",
   "metadata": {},
   "outputs": [],
   "source": [
    "%load_ext autoreload\n",
    "%autoreload 2"
   ]
  },
  {
   "cell_type": "code",
   "execution_count": 2,
   "id": "e1a2ee49-93a7-417e-84e6-b4e03a91d2c1",
   "metadata": {},
   "outputs": [],
   "source": [
    "import numpy as np\n",
    "import matplotlib.pyplot as plt\n",
    "from boundary import *\n",
    "from tools import *\n",
    "from oper import *\n"
   ]
  },
  {
   "cell_type": "code",
   "execution_count": 3,
   "id": "a1bcb5a0-2a73-4991-a4b4-a86eb4910f21",
   "metadata": {},
   "outputs": [],
   "source": [
    "nx = 401\n",
    "nz = 401\n",
    "nt = 2001\n",
    "npml = 20\n",
    "\n",
    "dx = 10.\n",
    "dz = 10.\n",
    "dt = 1e-3\n",
    "\n",
    "fmax = 15\n",
    "\n",
    "nshot = 1\n",
    "fshot_x = 150\n",
    "dshot_x = 0\n",
    "fshot_z = 2\n",
    "dshot_z = 0\n",
    "\n",
    "nrcv = 1\n",
    "frcv_x = 250\n",
    "drcv_x = 1\n",
    "frcv_z = 2\n",
    "drcv_z = 0\n",
    "\n",
    "geom_ID = 1\n",
    "\n",
    "no = 2\n",
    "rtype = np.float64"
   ]
  },
  {
   "cell_type": "code",
   "execution_count": 4,
   "id": "e32d12b6-9adb-45e7-99c5-778b34a09842",
   "metadata": {},
   "outputs": [],
   "source": [
    "nx_e = nx + 2*npml\n",
    "nz_e = nz + 2*npml\n",
    "a_x,a_xh,a_z,a_zh,b_x,b_xh,b_z,b_zh=gen_cpml(npml,fmax,dx,dt,nx_e,nz_e,rtype)"
   ]
  },
  {
   "cell_type": "markdown",
   "id": "0b21d0d4-49ac-4a9c-a789-d3671abd193d",
   "metadata": {},
   "source": [
    "## 1. make velocity"
   ]
  },
  {
   "cell_type": "code",
   "execution_count": 5,
   "id": "5cc6b2a0-b323-495f-b520-4fd0d4f52212",
   "metadata": {},
   "outputs": [],
   "source": [
    "vp = np.ones((nz,nx),rtype) * 3000.\n",
    "vp_p = vp.copy()\n",
    "vp_p[200,200] = 3010."
   ]
  },
  {
   "cell_type": "code",
   "execution_count": 6,
   "id": "e477696a-22ac-4b5d-ae2b-0632b46353e1",
   "metadata": {},
   "outputs": [],
   "source": [
    "vp_p_e = vel_exp(nx,nz,no,npml,rtype,vp_p)\n",
    "vp_e = vel_exp(nx,nz,no,npml,rtype,vp)"
   ]
  },
  {
   "cell_type": "code",
   "execution_count": 7,
   "id": "3cfdb8e7-3b56-4f38-b48c-39a07064cafb",
   "metadata": {},
   "outputs": [],
   "source": [
    "vp_p_e=vp_p_e[no:no+nz_e,no:no+nx_e]\n",
    "vp_e =vp_e[no:no+nz_e,no:no+nx_e]"
   ]
  },
  {
   "cell_type": "code",
   "execution_count": 8,
   "id": "b53fb45a-0f45-48ab-9188-8aeba7fcc365",
   "metadata": {},
   "outputs": [
    {
     "data": {
      "text/plain": [
       "<matplotlib.image.AxesImage at 0x24af7a17550>"
      ]
     },
     "execution_count": 8,
     "metadata": {},
     "output_type": "execute_result"
    },
    {
     "data": {
      "image/png": "[encoded data removed]",
      "text/plain": [
       "<Figure size 432x288 with 2 Axes>"
      ]
     },
     "metadata": {
      "needs_background": "light"
     },
     "output_type": "display_data"
    }
   ],
   "source": [
    "fig,ax = plt.subplots(nrows=1, ncols=2)\n",
    "ax[0].imshow(vp_p_e)\n",
    "ax[1].imshow(vp_e)"
   ]
  },
  {
   "cell_type": "code",
   "execution_count": 10,
   "id": "16cd0fb9-c7e2-4a0e-a82e-86a1495ec99d",
   "metadata": {},
   "outputs": [
    {
     "data": {
      "image/png": "[encoded data removed]",
      "text/plain": [
       "<Figure size 432x288 with 1 Axes>"
      ]
     },
     "metadata": {
      "needs_background": "light"
     },
     "output_type": "display_data"
    }
   ],
   "source": [
    "plt.imshow(vp_e)\n",
    "plt.savefig('per_velocity.png')"
   ]
  },
  {
   "cell_type": "markdown",
   "id": "25ed99b4-4d65-468d-bcab-2725885c8573",
   "metadata": {},
   "source": [
    "## 2. make source wavelet"
   ]
  },
  {
   "cell_type": "code",
   "execution_count": 14,
   "id": "459afa96-c748-4e3c-85bb-7fb4b2b77147",
   "metadata": {},
   "outputs": [],
   "source": [
    "source = ricker(nt,dt,fmax,rtype)"
   ]
  },
  {
   "cell_type": "code",
   "execution_count": 15,
   "id": "7e4448c6-ed9e-4d90-a9cb-ed938decd8bd",
   "metadata": {},
   "outputs": [
    {
     "data": {
      "text/plain": [
       "[<matplotlib.lines.Line2D at 0x24af83004e0>]"
      ]
     },
     "execution_count": 15,
     "metadata": {},
     "output_type": "execute_result"
    },
    {
     "data": {
      "image/png": "[encoded data removed]",
      "text/plain": [
       "<Figure size 432x288 with 1 Axes>"
      ]
     },
     "metadata": {
      "needs_background": "light"
     },
     "output_type": "display_data"
    }
   ],
   "source": [
    "plt.plot(source)"
   ]
  },
  {
   "cell_type": "code",
   "execution_count": 16,
   "id": "a5b28a09-c299-4e56-b6cd-6851ac483029",
   "metadata": {},
   "outputs": [
    {
     "data": {
      "text/plain": [
       "2"
      ]
     },
     "execution_count": 16,
     "metadata": {},
     "output_type": "execute_result"
    }
   ],
   "source": [
    "no"
   ]
  },
  {
   "cell_type": "markdown",
   "id": "d4b7590f-e81a-4759-84a2-c4dfb08c1b35",
   "metadata": {},
   "source": [
    "## 3. set geometry"
   ]
  },
  {
   "cell_type": "code",
   "execution_count": 17,
   "id": "2b0c79aa-1c69-4112-8d79-a9bfe530d66f",
   "metadata": {},
   "outputs": [],
   "source": [
    "sx,sz = ass_shot(nshot,fshot_x,dshot_x,fshot_z,dshot_z,npml,no)\n",
    "\n",
    "ishot=0\n",
    "rx,rz = ass_rcv(ishot,nrcv,frcv_x,drcv_x,frcv_z,drcv_z,npml,no,geom_ID)"
   ]
  },
  {
   "cell_type": "code",
   "execution_count": 18,
   "id": "e3ba3daf-c67c-4ee1-952d-f8d85c24da25",
   "metadata": {},
   "outputs": [],
   "source": [
    "C=np.array([1.12500000000000, -0.0416666666666667])"
   ]
  },
  {
   "cell_type": "markdown",
   "id": "9573846e-cf81-468d-b8f6-071cba434d6c",
   "metadata": {},
   "source": [
    "## 5. true perturbed "
   ]
  },
  {
   "cell_type": "code",
   "execution_count": 19,
   "id": "7477bb9f-c9b4-4457-8aaa-e53a6eb2d273",
   "metadata": {},
   "outputs": [],
   "source": [
    "seis,wave=forward(ishot,vp_p_e,nx,nz,nt,npml,no,dx,dz,dt,source,\n",
    "            sx,sz,rx,rz,\n",
    "            nrcv,\n",
    "            C,\n",
    "           a_x,a_xh,a_z,a_zh,\n",
    "           b_x,b_xh,b_z,b_zh,rtype)"
   ]
  },
  {
   "cell_type": "code",
   "execution_count": 20,
   "id": "c975a63f-e6aa-4fe6-9f2f-8c8970f1b9ff",
   "metadata": {},
   "outputs": [],
   "source": [
    "seis_h,wave=forward(ishot,vp_e,nx,nz,nt,npml,no,dx,dz,dt,source,\n",
    "            sx,sz,rx,rz,\n",
    "            nrcv,\n",
    "            C,\n",
    "           a_x,a_xh,a_z,a_zh,\n",
    "           b_x,b_xh,b_z,b_zh,rtype)"
   ]
  },
  {
   "cell_type": "code",
   "execution_count": 21,
   "id": "4d549a4e-a6e2-423d-99a6-132f93397980",
   "metadata": {},
   "outputs": [],
   "source": [
    "data_pertur = seis- seis_h"
   ]
  },
  {
   "cell_type": "code",
   "execution_count": 22,
   "id": "1aad464d-2d16-426e-82ce-fc3c45891996",
   "metadata": {},
   "outputs": [
    {
     "data": {
      "text/plain": [
       "[<matplotlib.lines.Line2D at 0x24af8355da0>]"
      ]
     },
     "execution_count": 22,
     "metadata": {},
     "output_type": "execute_result"
    },
    {
     "data": {
      "image/png": "[encoded data removed]",
      "text/plain": [
       "<Figure size 432x288 with 1 Axes>"
      ]
     },
     "metadata": {
      "needs_background": "light"
     },
     "output_type": "display_data"
    }
   ],
   "source": [
    "plt.plot(data_pertur)"
   ]
  },
  {
   "cell_type": "code",
   "execution_count": null,
   "id": "707a5fd5-f78a-4de0-bcfb-2c74e48fb706",
   "metadata": {},
   "outputs": [],
   "source": []
  },
  {
   "cell_type": "code",
   "execution_count": 23,
   "id": "9ac9d71b-feed-40f6-b04c-3ff378fc3eca",
   "metadata": {},
   "outputs": [],
   "source": [
    "seisdd,wave2=forward_fwi(ishot,vp_e,nx,nz,nt,npml,no,dx,dz,dt,source,\n",
    "            sx,sz,rx,rz,\n",
    "            nrcv,\n",
    "            C,\n",
    "           a_x,a_xh,a_z,a_zh,\n",
    "           b_x,b_xh,b_z,b_zh,rtype)"
   ]
  },
  {
   "cell_type": "code",
   "execution_count": 24,
   "id": "29f07fc7-21e5-4505-959b-004890f0c9f0",
   "metadata": {},
   "outputs": [],
   "source": [
    "wave2 = wave2[:,npml:npml+nz,npml:npml+nx]"
   ]
  },
  {
   "cell_type": "code",
   "execution_count": 25,
   "id": "f30f24aa-f735-4dc2-96ef-b3f6b484795f",
   "metadata": {},
   "outputs": [],
   "source": [
    "\n",
    "nshot = 1\n",
    "fshot_x_p = 200\n",
    "dshot_x_p = 0\n",
    "fshot_z_p = 200\n",
    "dshot_z_p = 0\n"
   ]
  },
  {
   "cell_type": "code",
   "execution_count": 26,
   "id": "e167f99d-9367-4d50-9df0-ae3c589173ec",
   "metadata": {},
   "outputs": [],
   "source": [
    "sx_p,sz_p = ass_shot(nshot,fshot_x_p,dshot_x_p,fshot_z_p,dshot_z_p,npml,no)\n"
   ]
  },
  {
   "cell_type": "code",
   "execution_count": 27,
   "id": "c7a47f8a-b0d5-4007-8788-4d763c827065",
   "metadata": {},
   "outputs": [
    {
     "data": {
      "text/plain": [
       "(2001, 401, 401)"
      ]
     },
     "execution_count": 27,
     "metadata": {},
     "output_type": "execute_result"
    }
   ],
   "source": [
    "wave2.shape"
   ]
  },
  {
   "cell_type": "code",
   "execution_count": 28,
   "id": "5198e3fd-71fd-4180-9453-e6529bd38071",
   "metadata": {},
   "outputs": [],
   "source": [
    "source_vir = wave2[:,fshot_z_p,fshot_x_p]"
   ]
  },
  {
   "cell_type": "code",
   "execution_count": 29,
   "id": "6a0481e1-1157-49d7-92b3-0f564cb65c43",
   "metadata": {},
   "outputs": [],
   "source": [
    "seis_vir,wave=forward(ishot,vp_e,nx,nz,nt,npml,no,dx,dz,dt,source_vir,\n",
    "            sx_p,sz_p,rx,rz,\n",
    "            nrcv,\n",
    "            C,\n",
    "           a_x,a_xh,a_z,a_zh,\n",
    "           b_x,b_xh,b_z,b_zh,rtype)"
   ]
  },
  {
   "cell_type": "code",
   "execution_count": null,
   "id": "e644e0c1-a621-4cfa-8463-ac3d9a741a17",
   "metadata": {},
   "outputs": [],
   "source": []
  },
  {
   "cell_type": "code",
   "execution_count": 30,
   "id": "0ddeff82-2417-4ba2-b6a7-025568003281",
   "metadata": {},
   "outputs": [
    {
     "data": {
      "text/plain": [
       "[<matplotlib.lines.Line2D at 0x24af83e3358>]"
      ]
     },
     "execution_count": 30,
     "metadata": {},
     "output_type": "execute_result"
    },
    {
     "data": {
      "image/png": "[encoded data removed]",
      "text/plain": [
       "<Figure size 720x288 with 1 Axes>"
      ]
     },
     "metadata": {
      "needs_background": "light"
     },
     "output_type": "display_data"
    }
   ],
   "source": [
    "plt.figure(figsize=(10,4))\n",
    "plt.plot(seis_vir)\n"
   ]
  },
  {
   "cell_type": "code",
   "execution_count": 31,
   "id": "63ff7fc1-76d6-4b10-a59a-b2bb93296232",
   "metadata": {},
   "outputs": [
    {
     "data": {
      "text/plain": [
       "[<matplotlib.lines.Line2D at 0x24af941d0b8>]"
      ]
     },
     "execution_count": 31,
     "metadata": {},
     "output_type": "execute_result"
    },
    {
     "data": {
      "image/png": "[encoded data removed]",
      "text/plain": [
       "<Figure size 720x288 with 1 Axes>"
      ]
     },
     "metadata": {
      "needs_background": "light"
     },
     "output_type": "display_data"
    }
   ],
   "source": [
    "plt.figure(figsize=(10,4))\n",
    "plt.plot(data_pertur/10)\n"
   ]
  },
  {
   "cell_type": "code",
   "execution_count": 43,
   "id": "8b27fcb0-21bb-42bc-8068-cf9461312ffa",
   "metadata": {},
   "outputs": [
    {
     "data": {
      "image/png": "[encoded data removed]",
      "text/plain": [
       "<Figure size 720x288 with 1 Axes>"
      ]
     },
     "metadata": {
      "needs_background": "light"
     },
     "output_type": "display_data"
    }
   ],
   "source": [
    "plt.figure(figsize=(10,4))\n",
    "plt.plot(data_pertur/10, label=\"FDM\",color=\"black\") \n",
    "plt.plot(seis_vir, label=\"Virtual source\",linestyle=\":\",color=\"red\") \n",
    "plt.legend()\n",
    "plt.savefig('vir_TEST')"
   ]
  },
  {
   "cell_type": "code",
   "execution_count": null,
   "id": "fbe0f3e6-0054-403a-a396-da7dada07862",
   "metadata": {},
   "outputs": [],
   "source": []
  },
  {
   "cell_type": "code",
   "execution_count": null,
   "id": "296e1864-ad80-4116-a16d-a31ec4abca33",
   "metadata": {},
   "outputs": [],
   "source": []
  }
 ],
 "metadata": {
  "kernelspec": {
   "display_name": "Python 3",
   "language": "python",
   "name": "python3"
  },
  "language_info": {
   "codemirror_mode": {
    "name": "ipython",
    "version": 3
   },
   "file_extension": ".py",
   "mimetype": "text/x-python",
   "name": "python",
   "nbconvert_exporter": "python",
   "pygments_lexer": "ipython3",
   "version": "3.6.13"
  }
 },
 "nbformat": 4,
 "nbformat_minor": 5
}
